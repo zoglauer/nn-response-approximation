{
 "cells": [
  {
   "attachments": {},
   "cell_type": "markdown",
   "metadata": {},
   "source": [
    "# Parameters"
   ]
  },
  {
   "cell_type": "code",
   "execution_count": 462,
   "metadata": {},
   "outputs": [],
   "source": [
    "NSIDE = 8\n",
    "NUMPIX = 12 * NSIDE ** 2\n",
    "DEPTH = 4\n",
    "SHOW_IMAGES = True\n",
    "\n",
    "RECT = True"
   ]
  },
  {
   "attachments": {},
   "cell_type": "markdown",
   "metadata": {},
   "source": [
    "# Helper Functions"
   ]
  },
  {
   "cell_type": "code",
   "execution_count": 463,
   "metadata": {},
   "outputs": [],
   "source": [
    "from torchvision.utils import save_image\n",
    "import os\n",
    "import torch\n",
    "\n",
    "def get_device():\n",
    "    if torch.cuda.is_available():\n",
    "        device = 'cuda:0'\n",
    "    else:\n",
    "        device = 'cpu'\n",
    "    return device\n",
    "\n",
    "\n",
    "def make_dir():\n",
    "    image_dir = 'Saved_Images'\n",
    "    if not os.path.exists(image_dir):\n",
    "        os.makedirs(image_dir)\n",
    "def save_img(img, name):\n",
    "    img = img.view(img.size(0), 1, 12 * NSIDE // 8, 64 * NSIDE // 8)\n",
    "    save_image(img, name)"
   ]
  },
  {
   "attachments": {},
   "cell_type": "markdown",
   "metadata": {},
   "source": [
    "### Set Device"
   ]
  },
  {
   "cell_type": "code",
   "execution_count": 464,
   "metadata": {},
   "outputs": [
    {
     "data": {
      "text/plain": [
       "'cpu'"
      ]
     },
     "execution_count": 464,
     "metadata": {},
     "output_type": "execute_result"
    }
   ],
   "source": [
    "device = get_device()\n",
    "base = torch.float32\n",
    "\n",
    "#pin to gpu\n",
    "device"
   ]
  },
  {
   "attachments": {},
   "cell_type": "markdown",
   "metadata": {},
   "source": [
    "### Set seed."
   ]
  },
  {
   "cell_type": "code",
   "execution_count": 465,
   "metadata": {},
   "outputs": [],
   "source": [
    "from src.utils import set_seed\n",
    "set_seed(2021)"
   ]
  },
  {
   "attachments": {},
   "cell_type": "markdown",
   "metadata": {},
   "source": [
    "# 1. Load in Data"
   ]
  },
  {
   "cell_type": "code",
   "execution_count": 466,
   "metadata": {},
   "outputs": [
    {
     "name": "stdout",
     "output_type": "stream",
     "text": [
      "[{'data': array([0.63302202, 2.89220065]), 'label': array([4.66805340e-07, 5.33040480e-04, 9.42961191e-05, ...,\n",
      "        6.66007057e-52, 4.22206507e-54, 2.62681859e-64])}\n",
      " {'data': array([2.3509821, 0.8276956]), 'label': array([4.37942708e-098, 8.19076135e-107, 8.26987782e-118, ...,\n",
      "        2.81413164e+000, 3.92787699e+000, 3.01207782e+000])}\n",
      " {'data': array([0.59406139, 3.68911751]), 'label': array([3.79277429e-07, 1.42453033e-04, 4.19383619e-03, ...,\n",
      "        1.22863528e-58, 7.51727914e-54, 4.48584985e-62])}\n",
      " ...\n",
      " {'data': array([1.96275226, 3.9636191 ]), 'label': array([7.82215184e-82, 1.37044778e-73, 1.51726569e-65, ...,\n",
      "        3.29541135e-02, 5.20673990e-01, 4.14026489e-02])}\n",
      " {'data': array([2.93389288, 0.19085046]), 'label': array([1.21114363e-160, 8.60478471e-176, 2.30847850e-180, ...,\n",
      "        7.22061039e-008, 2.31815890e-007, 7.58452651e-011])}\n",
      " {'data': array([1.37185698, 5.94539712]), 'label': array([1.39445050e-31, 4.61463637e-39, 2.30458030e-36, ...,\n",
      "        2.92638261e-21, 3.12736069e-19, 4.12717370e-14])}                                                      ]\n"
     ]
    }
   ],
   "source": [
    "'''\n",
    "Open the file.\n",
    "'''\n",
    "\n",
    "import pickle\n",
    "import healpy as hp\n",
    "import numpy as np\n",
    "import matplotlib.pyplot as plt\n",
    "\n",
    "file_name = f\"split_sphere_datasets_NSIDE{NSIDE}.pkl\"\n",
    "\n",
    "f = open(file_name, \"rb\")\n",
    "dataset = pickle.load(f)\n",
    "f.close()\n",
    "\n",
    "print(np.array(dataset))"
   ]
  },
  {
   "attachments": {},
   "cell_type": "markdown",
   "metadata": {},
   "source": [
    "# 2. Create Input and Output Arrays"
   ]
  },
  {
   "cell_type": "code",
   "execution_count": 467,
   "metadata": {},
   "outputs": [
    {
     "name": "stdout",
     "output_type": "stream",
     "text": [
      "x_combined shape:  (2048, 2)\n",
      "y_combined shape:  (2048, 3072)\n"
     ]
    }
   ],
   "source": [
    "'''\n",
    "\n",
    "Create the training and validation datasets. Do any necessary reshaping. \n",
    "\n",
    "'''\n",
    "\n",
    "import numpy as np\n",
    "\n",
    "x_combined = []\n",
    "y_combined = []\n",
    "\n",
    "\n",
    "\n",
    "NUM_CHANNELS = 1\n",
    "\n",
    "for i in range(len(dataset)):\n",
    "    x = dataset[i]['data']\n",
    "    y = dataset[i]['label']\n",
    "\n",
    "    x_combined.append(x)\n",
    "    y_combined.append(y)\n",
    "    \n",
    "x_combined = np.array(x_combined)\n",
    "y_combined = np.array(y_combined)\n",
    "\n",
    "print(\"x_combined shape: \", x_combined.shape)\n",
    "print(\"y_combined shape: \", y_combined.shape)"
   ]
  },
  {
   "attachments": {},
   "cell_type": "markdown",
   "metadata": {},
   "source": [
    "# 3. Split into Training, Val, and Test. Also Reshape into Rectangle if Specified."
   ]
  },
  {
   "cell_type": "code",
   "execution_count": 468,
   "metadata": {},
   "outputs": [
    {
     "name": "stdout",
     "output_type": "stream",
     "text": [
      "x_train shape:  (1024, 2)\n",
      "x_val shape:  (512, 2)\n",
      "x_test shape:  (512, 2)\n",
      "\n",
      "y_train shape:  (1024, 4, 24, 32)\n",
      "y_val shape:  (512, 4, 24, 32)\n",
      "y_test shape:  (512, 4, 24, 32)\n"
     ]
    }
   ],
   "source": [
    "# train_len = int(0.7 * len(y_combined)) # 70%\n",
    "# val_len = int(0.15 * len(y_combined)) # 15%\n",
    "# test_len = len(y_combined) - train_len - val_len # 15%\n",
    "\n",
    "train_len = 1024\n",
    "val_len = 512\n",
    "test_len = 512\n",
    "\n",
    "\n",
    "x_train = x_combined[:train_len]\n",
    "x_val = x_combined[train_len : train_len + val_len]\n",
    "x_test = x_combined[train_len + val_len:]\n",
    "\n",
    "y_train = y_combined[:train_len]\n",
    "y_val = y_combined[train_len : train_len + val_len]\n",
    "y_test = y_combined[train_len + val_len:]\n",
    "\n",
    "if RECT:\n",
    "    # NOTE: Can change based on input size of data\n",
    "    # For now, default to 12, 64 size for NSIDE 8 that is scaled up for larger NSIDEs. \n",
    "    length = 32 * NSIDE // 8\n",
    "    width = 24 * NSIDE // 8\n",
    "\n",
    "    y_train = y_train.reshape((len(y_train), DEPTH, width, length))\n",
    "    y_val = y_val.reshape((len(y_val), DEPTH, width, length))\n",
    "    y_test = y_test.reshape((len(y_test), DEPTH, width, length))\n",
    "\n",
    "\n",
    "print(\"x_train shape: \", x_train.shape)\n",
    "print(\"x_val shape: \", x_val.shape)\n",
    "print(\"x_test shape: \", x_test.shape)\n",
    "print()\n",
    "\n",
    "print(\"y_train shape: \", y_train.shape)\n",
    "print(\"y_val shape: \", y_val.shape)\n",
    "print(\"y_test shape: \", y_test.shape)"
   ]
  },
  {
   "attachments": {},
   "cell_type": "markdown",
   "metadata": {},
   "source": [
    "# 4. Create data loaders"
   ]
  },
  {
   "cell_type": "code",
   "execution_count": 469,
   "metadata": {},
   "outputs": [],
   "source": [
    "# constants\n",
    "NUM_EPOCHS = 100\n",
    "LEARNING_RATE = 1e-2\n",
    "BATCH_SIZE = 16 # previously 1"
   ]
  },
  {
   "cell_type": "code",
   "execution_count": 470,
   "metadata": {},
   "outputs": [],
   "source": [
    "from torch.utils.data import Dataset, DataLoader, TensorDataset\n",
    "\n",
    "train_set = TensorDataset(torch.tensor(x_train).to(dtype=base, device=device), torch.tensor(y_train).to(dtype=base, device=device))\n",
    "val_set = TensorDataset(torch.tensor(x_val).to(dtype=base, device=device), torch.tensor(y_val).to(dtype=base, device=device))\n",
    "test_set = TensorDataset(torch.tensor(x_test).to(dtype=base, device=device), torch.tensor(y_test).to(dtype=base, device=device))\n",
    "\n",
    "train_loader = DataLoader(train_set, BATCH_SIZE, shuffle=True)\n",
    "val_loader = DataLoader(val_set, BATCH_SIZE, shuffle=True)\n",
    "test_loader = DataLoader(test_set, BATCH_SIZE, shuffle=True)"
   ]
  },
  {
   "attachments": {},
   "cell_type": "markdown",
   "metadata": {},
   "source": [
    "# 5. Define Model Classes"
   ]
  },
  {
   "cell_type": "code",
   "execution_count": 471,
   "metadata": {},
   "outputs": [],
   "source": [
    "from torch.nn import Module, Conv2d, Sequential, ConvTranspose2d, ReLU, MaxPool2d, Linear\n",
    "\n",
    "\n",
    "class ConvExpand(Module): \n",
    "    def __init__(self, linear_layers, conv_layers, mid_rect_size, batch_size, num_channels):\n",
    "        super().__init__()\n",
    "\n",
    "        # Put encoder layers in Sequential container\n",
    "        # First increase from 1 --> 64 channels\n",
    "        # Keep decreasing number of channels\n",
    "        \n",
    "        self.linear_layers = linear_layers\n",
    "        self.conv_layers = conv_layers\n",
    "\n",
    "        self.mid_rect_size = mid_rect_size\n",
    "        self.batch_size = batch_size\n",
    "        self.num_channels = num_channels\n",
    "\n",
    "    # Run x through each layer\n",
    "    def forward(self, x):\n",
    "        for layer in self.linear_layers:\n",
    "            # print(x.shape)\n",
    "            x = layer(x)\n",
    "\n",
    "        # IMPORTANT: Reshaping output of linear layer into rect form\n",
    "        # Need to reshape into (NUM_CHANNELS, BATCH_SIZE, length, width)\n",
    "        x = x.view(self.batch_size, 4, self.mid_rect_size[0], self.mid_rect_size[1])\n",
    "        \n",
    "        for layer in self.conv_layers:\n",
    "            # print(x.shape)\n",
    "            x = layer(x)\n",
    "        \n",
    "        # print(x.detach().numpy().shape)\n",
    "        # print()\n",
    "        return x\n",
    "        "
   ]
  },
  {
   "cell_type": "code",
   "execution_count": 472,
   "metadata": {},
   "outputs": [],
   "source": [
    "\n",
    "fcmodel8 = Sequential(\n",
    "           Linear(2, 12),\n",
    "           ReLU(),\n",
    "           Linear(12, 384),\n",
    "           ReLU(),\n",
    "           Linear(384, 1536),\n",
    "           ReLU(),\n",
    "           Linear(1536, 3072)\n",
    "   )"
   ]
  },
  {
   "cell_type": "code",
   "execution_count": 473,
   "metadata": {},
   "outputs": [],
   "source": [
    "# IMPORTANT: change linear layer output to batch size * 256 so dimensions match? hmm\n",
    "lin8 = Sequential (\n",
    "   Linear(2, 12),\n",
    "   ReLU(),\n",
    "   Linear(12, 384),\n",
    "   ReLU(),\n",
    "   Linear(384, 3072),\n",
    ")\n",
    "\n",
    "\n",
    "mid_rect_size = (width, length)\n",
    "\n",
    "\n",
    "conv8 = Sequential (\n",
    "   Conv2d(4, 16, kernel_size=3, padding=1),\n",
    "   ReLU(),\n",
    "   Conv2d(16, 4, kernel_size=3, padding=1),\n",
    ")\n",
    "\n",
    "\n",
    "\n",
    "expand8 = ConvExpand(lin8, conv8, mid_rect_size, BATCH_SIZE, NUM_CHANNELS)"
   ]
  },
  {
   "cell_type": "code",
   "execution_count": 474,
   "metadata": {},
   "outputs": [],
   "source": [
    "model = expand8"
   ]
  },
  {
   "attachments": {},
   "cell_type": "markdown",
   "metadata": {},
   "source": [
    "# 6. Create Trainer"
   ]
  },
  {
   "cell_type": "code",
   "execution_count": 475,
   "metadata": {},
   "outputs": [],
   "source": [
    "import torch.optim as optim\n",
    "from torch.nn import MSELoss\n",
    "\n",
    "# Use MSE Loss\n",
    "# need to specify cpu\n",
    "criterion = MSELoss().to(dtype=base, device=device)\n",
    "\n",
    "# Use Adam optimizer\n",
    "optimizer = optim.Adam(model.parameters(), lr=LEARNING_RATE)"
   ]
  },
  {
   "cell_type": "code",
   "execution_count": 476,
   "metadata": {},
   "outputs": [],
   "source": [
    "# Function to evaluate performance of model on some data\n",
    "def eval_performance(model, data_loader):\n",
    "    # Set model to evaluation mode to conserve memory \n",
    "    model.eval()\n",
    "\n",
    "    # Don't want to waste memory on gradients\n",
    "    with torch.no_grad():\n",
    "        total_loss = 0.0\n",
    "        for x, y in data_loader:\n",
    "            pred = model(x)\n",
    "\n",
    "            total_loss += criterion(pred, y)\n",
    "            \n",
    "        \n",
    "        # Revert back to train mode\n",
    "        model.train()\n",
    "\n",
    "        return total_loss / len(data_loader)"
   ]
  },
  {
   "cell_type": "code",
   "execution_count": 477,
   "metadata": {},
   "outputs": [],
   "source": [
    "\n",
    "\n",
    "train_loss_hist = []\n",
    "val_loss_hist = []\n",
    "epoch = 0\n",
    "\n",
    "def train(model, train_loader, NUM_EPOCHS):\n",
    "    global train_loss_hist\n",
    "    global val_loss_hist\n",
    "    global epoch\n",
    "\n",
    "    while epoch < NUM_EPOCHS:\n",
    "        running_loss = 0.0\n",
    "\n",
    "        # Go through each batch of the data (can pass in entire batch at once!)\n",
    "        # batch - number of training examples for one forward/backward pass. So pass in batch data values then update weights. \n",
    "        for x_vals, y_vals in train_loader:\n",
    "            torch.cuda.empty_cache()\n",
    "\n",
    "            # Remember, it's in batches. \n",
    "            \n",
    "            '''\n",
    "\n",
    "            Reset gradients to 0 so updating of weights can be done correctly.\n",
    "\n",
    "            When we do loss.backward(), gradients are calculated. Then, optimizer.step() does gradient descent.\n",
    "            For the next batch, we don't want these gradients to still be lingering (because a new input will have new gradients).\n",
    "            Thus, we have to reset the gradients to 0. \n",
    "\n",
    "            NOTE: This is not the same as setting the weights to 0! We are just resetting the calculated gradients.\n",
    "            \n",
    "            '''\n",
    "            optimizer.zero_grad()\n",
    "\n",
    "            # Calculate model outputs\n",
    "            outputs = model(x_vals)\n",
    "\n",
    "            # Calculate loss\n",
    "            loss = criterion(outputs, y_vals)\n",
    "\n",
    "            # Calculate gradients \n",
    "            loss.backward()\n",
    "\n",
    "            # Do gradient descent to update the weights.\n",
    "            optimizer.step()\n",
    "\n",
    "            running_loss += loss.item()\n",
    "\n",
    "\n",
    "        loss = running_loss / len(train_loader)\n",
    "        train_loss_hist.append(loss)\n",
    "\n",
    "        torch.cuda.empty_cache()\n",
    "\n",
    "\n",
    "        # running_val_loss = 0.0\n",
    "        # # Calculate val loss\n",
    "        # for x, y in val_loader:\n",
    "        #     optimizer.zero_grad()\n",
    "            \n",
    "            \n",
    "        #     # Calculate model outputs\n",
    "        #     val_outputs = model(x)\n",
    "\n",
    "        #     loss = criterion(val_outputs, y)\n",
    "        #     running_val_loss += loss\n",
    "\n",
    "        val_loss = eval_performance(model, val_loader)\n",
    "        val_loss_hist.append(val_loss)\n",
    "\n",
    "        \n",
    "\n",
    "        print(f'Epoch {epoch + 1} of {NUM_EPOCHS}, Train Loss: {loss}, Val Loss: {val_loss}')\n",
    "        # print(f'Epoch {epoch + 1} of {NUM_EPOCHS}, Train Loss: {loss}')\n",
    "\n",
    "        # # Saving a full batch!\n",
    "        # if epoch % 2 == 0:\n",
    "        #     save_img(y_vals.cpu().data, name='./Cone_Images/truth_batch_{}.png'.format(epoch))\n",
    "        #     save_img(outputs.cpu().data, name='./Cone_Images/predicted_batch_{}.png'.format(epoch))\n",
    "        \n",
    "        epoch += 1"
   ]
  },
  {
   "attachments": {},
   "cell_type": "markdown",
   "metadata": {},
   "source": [
    "# Train Model"
   ]
  },
  {
   "cell_type": "code",
   "execution_count": 478,
   "metadata": {},
   "outputs": [
    {
     "name": "stdout",
     "output_type": "stream",
     "text": [
      "Epoch 1 of 100, Train Loss: 0.4778802655637264, Val Loss: 0.3697429299354553\n",
      "Epoch 2 of 100, Train Loss: 0.34090461675077677, Val Loss: 0.29810553789138794\n",
      "Epoch 3 of 100, Train Loss: 0.27583811176009476, Val Loss: 0.29129859805107117\n",
      "Epoch 4 of 100, Train Loss: 0.2397165633738041, Val Loss: 0.1997043639421463\n",
      "Epoch 5 of 100, Train Loss: 0.1859750177245587, Val Loss: 0.20071229338645935\n",
      "Epoch 6 of 100, Train Loss: 0.16694402694702148, Val Loss: 0.14970612525939941\n",
      "Epoch 7 of 100, Train Loss: 0.14971323730424047, Val Loss: 0.14998358488082886\n",
      "Epoch 8 of 100, Train Loss: 0.13499986298847944, Val Loss: 0.11606139689683914\n",
      "Epoch 9 of 100, Train Loss: 0.11286009405739605, Val Loss: 0.11917188763618469\n",
      "Epoch 10 of 100, Train Loss: 0.11270866810809821, Val Loss: 0.1290540099143982\n",
      "Epoch 11 of 100, Train Loss: 0.1214251487981528, Val Loss: 0.11959856003522873\n",
      "Epoch 12 of 100, Train Loss: 0.10369862534571439, Val Loss: 0.12273672223091125\n",
      "Epoch 13 of 100, Train Loss: 0.09729675319977105, Val Loss: 0.08095675706863403\n",
      "Epoch 14 of 100, Train Loss: 0.10736112564336509, Val Loss: 0.1383645087480545\n",
      "Epoch 15 of 100, Train Loss: 0.08409730182029307, Val Loss: 0.07741282880306244\n",
      "Epoch 16 of 100, Train Loss: 0.08705690456554294, Val Loss: 0.095218226313591\n",
      "Epoch 17 of 100, Train Loss: 0.07399178273044527, Val Loss: 0.07123280316591263\n",
      "Epoch 18 of 100, Train Loss: 0.05697813688311726, Val Loss: 0.06114945933222771\n",
      "Epoch 19 of 100, Train Loss: 0.06970862706657499, Val Loss: 0.08691982924938202\n",
      "Epoch 20 of 100, Train Loss: 0.06204417470144108, Val Loss: 0.06332884728908539\n",
      "Epoch 21 of 100, Train Loss: 0.08199308096664026, Val Loss: 0.08331142365932465\n",
      "Epoch 22 of 100, Train Loss: 0.06524386955425143, Val Loss: 0.06578555703163147\n",
      "Epoch 23 of 100, Train Loss: 0.058331122039817274, Val Loss: 0.062025267630815506\n",
      "Epoch 24 of 100, Train Loss: 0.0648526634904556, Val Loss: 0.04920131713151932\n",
      "Epoch 25 of 100, Train Loss: 0.042892402911093086, Val Loss: 0.06629715859889984\n",
      "Epoch 26 of 100, Train Loss: 0.049243865883909166, Val Loss: 0.04157152399420738\n",
      "Epoch 27 of 100, Train Loss: 0.046059777203481644, Val Loss: 0.04987687990069389\n",
      "Epoch 28 of 100, Train Loss: 0.04644974583061412, Val Loss: 0.04993273690342903\n",
      "Epoch 29 of 100, Train Loss: 0.042413354851305485, Val Loss: 0.04177166521549225\n",
      "Epoch 30 of 100, Train Loss: 0.05877915758173913, Val Loss: 0.04740939661860466\n",
      "Epoch 31 of 100, Train Loss: 0.0535578029230237, Val Loss: 0.04340297356247902\n",
      "Epoch 32 of 100, Train Loss: 0.05170208733761683, Val Loss: 0.044169001281261444\n",
      "Epoch 33 of 100, Train Loss: 0.055976104602450505, Val Loss: 0.08006089925765991\n",
      "Epoch 34 of 100, Train Loss: 0.05099314544349909, Val Loss: 0.058579109609127045\n",
      "Epoch 35 of 100, Train Loss: 0.03693686088081449, Val Loss: 0.03510265052318573\n",
      "Epoch 36 of 100, Train Loss: 0.03890658062300645, Val Loss: 0.04850589111447334\n",
      "Epoch 37 of 100, Train Loss: 0.04001554305432364, Val Loss: 0.04088788852095604\n",
      "Epoch 38 of 100, Train Loss: 0.03746437965310179, Val Loss: 0.03992687165737152\n",
      "Epoch 39 of 100, Train Loss: 0.04032845958136022, Val Loss: 0.04238398000597954\n",
      "Epoch 40 of 100, Train Loss: 0.04935479047708213, Val Loss: 0.06034478172659874\n",
      "Epoch 41 of 100, Train Loss: 0.04353988039656542, Val Loss: 0.05091378465294838\n",
      "Epoch 42 of 100, Train Loss: 0.04638414905639365, Val Loss: 0.041823964565992355\n",
      "Epoch 43 of 100, Train Loss: 0.03981592186028138, Val Loss: 0.0661742091178894\n",
      "Epoch 44 of 100, Train Loss: 0.05805890404735692, Val Loss: 0.03985433280467987\n",
      "Epoch 45 of 100, Train Loss: 0.043174785299925134, Val Loss: 0.035912130028009415\n",
      "Epoch 46 of 100, Train Loss: 0.03113395711989142, Val Loss: 0.04024823009967804\n",
      "Epoch 47 of 100, Train Loss: 0.059674070129403844, Val Loss: 0.05810331180691719\n",
      "Epoch 48 of 100, Train Loss: 0.04566272837109864, Val Loss: 0.037577081471681595\n",
      "Epoch 49 of 100, Train Loss: 0.027631427627056837, Val Loss: 0.027485316619277\n",
      "Epoch 50 of 100, Train Loss: 0.0358709653664846, Val Loss: 0.0474095344543457\n",
      "Epoch 51 of 100, Train Loss: 0.034654184244573116, Val Loss: 0.044974420219659805\n",
      "Epoch 52 of 100, Train Loss: 0.03294581692898646, Val Loss: 0.04753981903195381\n",
      "Epoch 53 of 100, Train Loss: 0.04736677149776369, Val Loss: 0.04975711926817894\n",
      "Epoch 54 of 100, Train Loss: 0.04642232944024727, Val Loss: 0.04894350841641426\n",
      "Epoch 55 of 100, Train Loss: 0.03435707461903803, Val Loss: 0.02431415766477585\n",
      "Epoch 56 of 100, Train Loss: 0.031927100382745266, Val Loss: 0.0400611013174057\n",
      "Epoch 57 of 100, Train Loss: 0.03586958997766487, Val Loss: 0.04093547910451889\n",
      "Epoch 58 of 100, Train Loss: 0.028955029527423903, Val Loss: 0.02257648855447769\n",
      "Epoch 59 of 100, Train Loss: 0.02302214631345123, Val Loss: 0.021493375301361084\n",
      "Epoch 60 of 100, Train Loss: 0.018985048722242936, Val Loss: 0.02598712407052517\n",
      "Epoch 61 of 100, Train Loss: 0.030534332981915213, Val Loss: 0.0298457033932209\n",
      "Epoch 62 of 100, Train Loss: 0.03791830537375063, Val Loss: 0.06376667320728302\n",
      "Epoch 63 of 100, Train Loss: 0.05132215941557661, Val Loss: 0.045084401965141296\n",
      "Epoch 64 of 100, Train Loss: 0.03824803794850595, Val Loss: 0.040551088750362396\n",
      "Epoch 65 of 100, Train Loss: 0.034476235770853236, Val Loss: 0.029597342014312744\n"
     ]
    },
    {
     "ename": "KeyboardInterrupt",
     "evalue": "",
     "output_type": "error",
     "traceback": [
      "\u001b[0;31m---------------------------------------------------------------------------\u001b[0m",
      "\u001b[0;31mKeyboardInterrupt\u001b[0m                         Traceback (most recent call last)",
      "\u001b[0;32m/var/folders/h7/94j8y0qs6r76hpyncbj21th40000gn/T/ipykernel_82350/3655824926.py\u001b[0m in \u001b[0;36m<module>\u001b[0;34m\u001b[0m\n\u001b[0;32m----> 1\u001b[0;31m \u001b[0mtrain\u001b[0m\u001b[0;34m(\u001b[0m\u001b[0mmodel\u001b[0m\u001b[0;34m,\u001b[0m \u001b[0mtrain_loader\u001b[0m\u001b[0;34m,\u001b[0m \u001b[0mNUM_EPOCHS\u001b[0m\u001b[0;34m)\u001b[0m\u001b[0;34m\u001b[0m\u001b[0;34m\u001b[0m\u001b[0m\n\u001b[0m",
      "\u001b[0;32m/var/folders/h7/94j8y0qs6r76hpyncbj21th40000gn/T/ipykernel_82350/3902289812.py\u001b[0m in \u001b[0;36mtrain\u001b[0;34m(model, train_loader, NUM_EPOCHS)\u001b[0m\n\u001b[1;32m     38\u001b[0m \u001b[0;34m\u001b[0m\u001b[0m\n\u001b[1;32m     39\u001b[0m             \u001b[0;31m# Calculate gradients\u001b[0m\u001b[0;34m\u001b[0m\u001b[0;34m\u001b[0m\u001b[0;34m\u001b[0m\u001b[0m\n\u001b[0;32m---> 40\u001b[0;31m             \u001b[0mloss\u001b[0m\u001b[0;34m.\u001b[0m\u001b[0mbackward\u001b[0m\u001b[0;34m(\u001b[0m\u001b[0;34m)\u001b[0m\u001b[0;34m\u001b[0m\u001b[0;34m\u001b[0m\u001b[0m\n\u001b[0m\u001b[1;32m     41\u001b[0m \u001b[0;34m\u001b[0m\u001b[0m\n\u001b[1;32m     42\u001b[0m             \u001b[0;31m# Do gradient descent to update the weights.\u001b[0m\u001b[0;34m\u001b[0m\u001b[0;34m\u001b[0m\u001b[0;34m\u001b[0m\u001b[0m\n",
      "\u001b[0;32m~/opt/anaconda3/envs/nn_response/lib/python3.7/site-packages/torch/_tensor.py\u001b[0m in \u001b[0;36mbackward\u001b[0;34m(self, gradient, retain_graph, create_graph, inputs)\u001b[0m\n\u001b[1;32m    486\u001b[0m             )\n\u001b[1;32m    487\u001b[0m         torch.autograd.backward(\n\u001b[0;32m--> 488\u001b[0;31m             \u001b[0mself\u001b[0m\u001b[0;34m,\u001b[0m \u001b[0mgradient\u001b[0m\u001b[0;34m,\u001b[0m \u001b[0mretain_graph\u001b[0m\u001b[0;34m,\u001b[0m \u001b[0mcreate_graph\u001b[0m\u001b[0;34m,\u001b[0m \u001b[0minputs\u001b[0m\u001b[0;34m=\u001b[0m\u001b[0minputs\u001b[0m\u001b[0;34m\u001b[0m\u001b[0;34m\u001b[0m\u001b[0m\n\u001b[0m\u001b[1;32m    489\u001b[0m         )\n\u001b[1;32m    490\u001b[0m \u001b[0;34m\u001b[0m\u001b[0m\n",
      "\u001b[0;32m~/opt/anaconda3/envs/nn_response/lib/python3.7/site-packages/torch/autograd/__init__.py\u001b[0m in \u001b[0;36mbackward\u001b[0;34m(tensors, grad_tensors, retain_graph, create_graph, grad_variables, inputs)\u001b[0m\n\u001b[1;32m    197\u001b[0m     Variable._execution_engine.run_backward(  # Calls into the C++ engine to run the backward pass\n\u001b[1;32m    198\u001b[0m         \u001b[0mtensors\u001b[0m\u001b[0;34m,\u001b[0m \u001b[0mgrad_tensors_\u001b[0m\u001b[0;34m,\u001b[0m \u001b[0mretain_graph\u001b[0m\u001b[0;34m,\u001b[0m \u001b[0mcreate_graph\u001b[0m\u001b[0;34m,\u001b[0m \u001b[0minputs\u001b[0m\u001b[0;34m,\u001b[0m\u001b[0;34m\u001b[0m\u001b[0;34m\u001b[0m\u001b[0m\n\u001b[0;32m--> 199\u001b[0;31m         allow_unreachable=True, accumulate_grad=True)  # Calls into the C++ engine to run the backward pass\n\u001b[0m\u001b[1;32m    200\u001b[0m \u001b[0;34m\u001b[0m\u001b[0m\n\u001b[1;32m    201\u001b[0m def grad(\n",
      "\u001b[0;31mKeyboardInterrupt\u001b[0m: "
     ]
    }
   ],
   "source": [
    "train(model, train_loader, NUM_EPOCHS)"
   ]
  },
  {
   "cell_type": "code",
   "execution_count": 481,
   "metadata": {},
   "outputs": [
    {
     "name": "stdout",
     "output_type": "stream",
     "text": [
      "0.0021233489\n"
     ]
    },
    {
     "data": {
      "image/png": "[encoded data removed]",
      "text/plain": [
       "<Figure size 850x540 with 2 Axes>"
      ]
     },
     "metadata": {},
     "output_type": "display_data"
    },
    {
     "data": {
      "image/png": "[encoded data removed]",
      "text/plain": [
       "<Figure size 850x540 with 2 Axes>"
      ]
     },
     "metadata": {},
     "output_type": "display_data"
    },
    {
     "data": {
      "image/png": "[encoded data removed]",
      "text/plain": [
       "<Figure size 850x540 with 2 Axes>"
      ]
     },
     "metadata": {},
     "output_type": "display_data"
    }
   ],
   "source": [
    "\n",
    "\n",
    "def display_sample(model, data_loader):\n",
    "    for x, y in data_loader:\n",
    "        # Set model to evaluation mode to conserve memory \n",
    "        model.eval()\n",
    "\n",
    "        # Don't want to waste memory on gradients\n",
    "        with torch.no_grad():\n",
    "\n",
    "            pred = model(x)\n",
    "\n",
    "            truth = torch.reshape(y[0], (DEPTH, NUMPIX, ))[2].detach().numpy()\n",
    "            model_pred = np.reshape(pred[0].detach().numpy(), (DEPTH, NUMPIX, ))[2]\n",
    "\n",
    "            diff = np.absolute(model_pred - truth)\n",
    "            \n",
    "            # [0] because 1 channel so need to go inside\n",
    "            hp.mollview(truth)\n",
    "            hp.mollview(model_pred)\n",
    "            hp.mollview(diff)\n",
    "            \n",
    "            print(np.median(diff))\n",
    "\n",
    "            # set back to train mode\n",
    "            model.train()\n",
    "            break\n",
    "    \n",
    "if SHOW_IMAGES:\n",
    "    display_sample(model, val_loader)"
   ]
  },
  {
   "cell_type": "markdown",
   "metadata": {},
   "source": []
  },
  {
   "attachments": {},
   "cell_type": "markdown",
   "metadata": {},
   "source": []
  }
 ],
 "metadata": {
  "kernelspec": {
   "display_name": "Python 3.7.13 ('nn_response')",
   "language": "python",
   "name": "python3"
  },
  "language_info": {
   "codemirror_mode": {
    "name": "ipython",
    "version": 3
   },
   "file_extension": ".py",
   "mimetype": "text/x-python",
   "name": "python",
   "nbconvert_exporter": "python",
   "pygments_lexer": "ipython3",
   "version": "3.7.13"
  },
  "orig_nbformat": 4,
  "vscode": {
   "interpreter": {
    "hash": "a63c20d5ea98d5ea615593d44a9fb564882bf3b15df23c63fb54c70ca4209996"
   }
  }
 },
 "nbformat": 4,
 "nbformat_minor": 2
}

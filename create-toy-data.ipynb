{
 "cells": [
  {
   "attachments": {},
   "cell_type": "markdown",
   "metadata": {},
   "source": [
    "# Generate Data Files"
   ]
  },
  {
   "cell_type": "code",
   "execution_count": 6,
   "metadata": {},
   "outputs": [
    {
     "name": "stderr",
     "output_type": "stream",
     "text": [
      "Generating data...: 100%|██████████| 2048/2048 [06:33<00:00,  5.21it/s]\n"
     ]
    }
   ],
   "source": [
    "from src.cone_model import HEALPixCone\n",
    "import pickle\n",
    "import os\n",
    "\n",
    "NSIDE = 8\n",
    "NUM_CHANNELS = 1\n",
    "NUMPIX = 12 * NSIDE ** 2\n",
    "DEPTH = 4\n",
    "\n",
    "cone_model = HEALPixCone(\n",
    "        output_dir=os.path.join(\"\", 'figs'),\n",
    "        NSIDE=NSIDE\n",
    ")\n",
    "\n",
    "dataset = cone_model.create_dataset(dataset_size=2048)\n"
   ]
  },
  {
   "attachments": {},
   "cell_type": "markdown",
   "metadata": {},
   "source": [
    "# Reshape Data Into (NUM_CHANNELS, DEPTH, NUMPIX)"
   ]
  },
  {
   "cell_type": "code",
   "execution_count": 7,
   "metadata": {},
   "outputs": [
    {
     "name": "stdout",
     "output_type": "stream",
     "text": [
      "reshaped array shape:  (2048, 1, 4, 768)\n"
     ]
    }
   ],
   "source": [
    "'''\n",
    "\n",
    "Create the training and validation datasets. Do any necessary reshaping. \n",
    "\n",
    "'''\n",
    "\n",
    "\n",
    "\n",
    "import numpy as np\n",
    "\n",
    "\n",
    "\n",
    "NUM_CHANNELS = 1\n",
    "\n",
    "reshaped = []\n",
    "\n",
    "for i in range(len(dataset)):\n",
    "    all_train_depths = dataset[i]['label'].reshape(NUM_CHANNELS, DEPTH, NUMPIX)\n",
    "    reshaped.append(all_train_depths)\n",
    "\n",
    "reshaped = np.array(reshaped)\n",
    "\n",
    "print(\"reshaped array shape: \", reshaped.shape)\n"
   ]
  },
  {
   "attachments": {},
   "cell_type": "markdown",
   "metadata": {},
   "source": [
    "# Save Data"
   ]
  },
  {
   "cell_type": "code",
   "execution_count": 8,
   "metadata": {},
   "outputs": [],
   "source": [
    "f = open(f\"split_sphere_datasets_NSIDE{NSIDE}.pkl\", \"wb\"); \n",
    "pickle.dump((dataset), f); \n",
    "f.close()"
   ]
  }
 ],
 "metadata": {
  "kernelspec": {
   "display_name": "Python 3.7.13 ('nn_response')",
   "language": "python",
   "name": "python3"
  },
  "language_info": {
   "codemirror_mode": {
    "name": "ipython",
    "version": 3
   },
   "file_extension": ".py",
   "mimetype": "text/x-python",
   "name": "python",
   "nbconvert_exporter": "python",
   "pygments_lexer": "ipython3",
   "version": "3.7.13"
  },
  "orig_nbformat": 4,
  "vscode": {
   "interpreter": {
    "hash": "a63c20d5ea98d5ea615593d44a9fb564882bf3b15df23c63fb54c70ca4209996"
   }
  }
 },
 "nbformat": 4,
 "nbformat_minor": 2
}
